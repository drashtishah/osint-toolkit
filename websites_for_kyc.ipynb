{
 "cells": [
  {
   "cell_type": "markdown",
   "id": "f667ff86-c1fe-447c-913e-3fc69733b8fa",
   "metadata": {
    "tags": []
   },
   "source": [
    "### Open all relevant websites for business entity KYC tasks"
   ]
  },
  {
   "cell_type": "code",
   "execution_count": 1,
   "id": "05a50d5e-05f3-4e02-9ac5-4d682437b403",
   "metadata": {},
   "outputs": [],
   "source": [
    "import pandas as pd\n",
    "import osint"
   ]
  },
  {
   "cell_type": "code",
   "execution_count": 2,
   "id": "84880ea9-c296-4717-8399-3be2c6206f80",
   "metadata": {},
   "outputs": [],
   "source": [
    "COMPANY_NAME = '10X GENOMICS'"
   ]
  },
  {
   "cell_type": "code",
   "execution_count": 3,
   "id": "beb3c13b-45c0-4df3-9bb1-6e87e9e1ecb4",
   "metadata": {},
   "outputs": [],
   "source": [
    "driver_1 = osint.bot.initiate_bot()\n",
    "osint.bot.search.open_corporates(driver_1, COMPANY_NAME)"
   ]
  },
  {
   "cell_type": "code",
   "execution_count": 4,
   "id": "a0bf4cde-c508-4418-8cbb-a27b8f308012",
   "metadata": {},
   "outputs": [],
   "source": [
    "driver_2 = osint.bot.initiate_bot()\n",
    "osint.bot.search.sec(driver_2, COMPANY_NAME)"
   ]
  },
  {
   "cell_type": "raw",
   "id": "b575855d-dc9d-44f6-a0ad-39c1127844c3",
   "metadata": {},
   "source": [
    "# Activate this cell when you want to close all windows\n",
    "driver_1.quit()\n",
    "driver_2.quit()"
   ]
  }
 ],
 "metadata": {
  "kernelspec": {
   "display_name": "Python 3 (ipykernel)",
   "language": "python",
   "name": "python3"
  },
  "language_info": {
   "codemirror_mode": {
    "name": "ipython",
    "version": 3
   },
   "file_extension": ".py",
   "mimetype": "text/x-python",
   "name": "python",
   "nbconvert_exporter": "python",
   "pygments_lexer": "ipython3",
   "version": "3.9.12"
  }
 },
 "nbformat": 4,
 "nbformat_minor": 5
}
