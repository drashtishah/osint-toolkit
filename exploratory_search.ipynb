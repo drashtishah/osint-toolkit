{
 "cells": [
  {
   "cell_type": "markdown",
   "id": "f667ff86-c1fe-447c-913e-3fc69733b8fa",
   "metadata": {
    "tags": []
   },
   "source": [
    "### Open websites for business entity KYC tasks"
   ]
  },
  {
   "cell_type": "code",
   "execution_count": 1,
   "id": "05a50d5e-05f3-4e02-9ac5-4d682437b403",
   "metadata": {},
   "outputs": [],
   "source": [
    "import osint"
   ]
  },
  {
   "cell_type": "code",
   "execution_count": 2,
   "id": "84880ea9-c296-4717-8399-3be2c6206f80",
   "metadata": {},
   "outputs": [],
   "source": [
    "COMPANY_NAME = '10X GENOMICS'"
   ]
  },
  {
   "cell_type": "code",
   "execution_count": 3,
   "id": "beb3c13b-45c0-4df3-9bb1-6e87e9e1ecb4",
   "metadata": {},
   "outputs": [
    {
     "name": "stderr",
     "output_type": "stream",
     "text": [
      "[WDM] - Downloading: 100%|██████████████████| 8.41M/8.41M [00:11<00:00, 774kB/s]\n"
     ]
    }
   ],
   "source": [
    "driver_1 = osint.bot.initiate_bot()\n",
    "osint.bot.search.website(driver_1, \n",
    "                         COMPANY_NAME, \n",
    "                         osint.bot.constants.OPEN_CORP_URL, \n",
    "                         osint.bot.constants.OPEN_CORP_SEARCH_BOX)"
   ]
  },
  {
   "cell_type": "code",
   "execution_count": 4,
   "id": "a0bf4cde-c508-4418-8cbb-a27b8f308012",
   "metadata": {},
   "outputs": [],
   "source": [
    "driver_2 = osint.bot.initiate_bot()\n",
    "osint.bot.search.website(driver_2, \n",
    "                         COMPANY_NAME, \n",
    "                         osint.bot.constants.SEC_URL, \n",
    "                         osint.bot.constants.SEC_SEARCH_BOX)"
   ]
  },
  {
   "cell_type": "raw",
   "id": "54f80271-c7e7-4cb9-84de-2c08855563a3",
   "metadata": {},
   "source": [
    "# Activate this cell when you want to close all windows\n",
    "driver_1.quit()\n",
    "driver_2.quit()"
   ]
  },
  {
   "cell_type": "code",
   "execution_count": null,
   "id": "097eb639-6ebf-4116-af71-695ae788c848",
   "metadata": {},
   "outputs": [],
   "source": []
  }
 ],
 "metadata": {
  "kernelspec": {
   "display_name": "Python 3 (ipykernel)",
   "language": "python",
   "name": "python3"
  },
  "language_info": {
   "codemirror_mode": {
    "name": "ipython",
    "version": 3
   },
   "file_extension": ".py",
   "mimetype": "text/x-python",
   "name": "python",
   "nbconvert_exporter": "python",
   "pygments_lexer": "ipython3",
   "version": "3.9.12"
  }
 },
 "nbformat": 4,
 "nbformat_minor": 5
}
