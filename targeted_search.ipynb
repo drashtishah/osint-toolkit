{
 "cells": [
  {
   "cell_type": "code",
   "execution_count": null,
   "id": "8de560a9-50cf-4fda-90ae-9c3a94de22ae",
   "metadata": {},
   "outputs": [],
   "source": [
    "import pandas as pd\n",
    "import osint"
   ]
  },
  {
   "cell_type": "code",
   "execution_count": null,
   "id": "b8041909-800e-44fc-a0cc-1aed91205807",
   "metadata": {},
   "outputs": [],
   "source": [
    "# Inputs\n"
   ]
  }
 ],
 "metadata": {
  "kernelspec": {
   "display_name": "Python 3 (ipykernel)",
   "language": "python",
   "name": "python3"
  },
  "language_info": {
   "codemirror_mode": {
    "name": "ipython",
    "version": 3
   },
   "file_extension": ".py",
   "mimetype": "text/x-python",
   "name": "python",
   "nbconvert_exporter": "python",
   "pygments_lexer": "ipython3",
   "version": "3.9.12"
  }
 },
 "nbformat": 4,
 "nbformat_minor": 5
}
