{
 "cells": [
  {
   "cell_type": "code",
   "execution_count": 1,
   "id": "3383c02c-b774-4231-92e8-e697983c1670",
   "metadata": {},
   "outputs": [],
   "source": [
    "import osint\n",
    "import pandas as pd"
   ]
  },
  {
   "cell_type": "markdown",
   "id": "304d570d-517a-4731-857d-5dba0cda2e06",
   "metadata": {},
   "source": [
    "### Does Unsplash remove EXIF data from uploaded images?\n",
    "This notebook uses a photo by <a href=\"https://unsplash.com/@finnnyc?utm_source=unsplash&utm_medium=referral&utm_content=creditCopyText\">Finn</a> on <a href=\"https://unsplash.com/images/feelings?utm_source=unsplash&utm_medium=referral&utm_content=creditCopyText\">Unsplash</a>"
   ]
  },
  {
   "cell_type": "code",
   "execution_count": 2,
   "id": "959135fb-61c0-4951-97be-f1ee169f251c",
   "metadata": {},
   "outputs": [
    {
     "name": "stdout",
     "output_type": "stream",
     "text": [
      "image_on_unsplash.jpg contains no EXIF data\n"
     ]
    }
   ],
   "source": [
    "IMAGE_1 = 'image_on_unsplash.jpg'\n",
    "osint.image.read.exif(IMAGE_1)"
   ]
  },
  {
   "cell_type": "markdown",
   "id": "600c2b86-c207-4851-b49a-a5f35f9dfbbd",
   "metadata": {},
   "source": [
    "### Example of an image with EXIF data"
   ]
  },
  {
   "cell_type": "code",
   "execution_count": 3,
   "id": "36b8c7ff-16b8-4818-8ca7-b71e01686f05",
   "metadata": {},
   "outputs": [
    {
     "data": {
      "text/plain": [
       "ExifOffset          38\n",
       "Orientation          1\n",
       "ColorSpace           1\n",
       "ExifImageWidth     372\n",
       "ExifImageHeight    356\n",
       "dtype: int64"
      ]
     },
     "execution_count": 3,
     "metadata": {},
     "output_type": "execute_result"
    }
   ],
   "source": [
    "IMAGE_2 = 'my_face.jpeg'\n",
    "data = osint.image.read.exif(IMAGE_2)\n",
    "data"
   ]
  },
  {
   "cell_type": "markdown",
   "id": "7c49f07f-602c-46b4-8383-c335d3d6564a",
   "metadata": {},
   "source": [
    "### Another example of an image with EXIF data\n",
    "Thank you David Bombal for letting me use his photos \n",
    "- Flickr: https://www.flickr.com/photos/194419969@N07/\n",
    "- YouTube Tutorial: https://www.youtube.com/watch?v=A_itRNhbgZk"
   ]
  },
  {
   "cell_type": "code",
   "execution_count": 4,
   "id": "8febfced-8232-4ac3-bd0f-0b24b9a8f205",
   "metadata": {},
   "outputs": [
    {
     "data": {
      "text/plain": [
       "GPSInfo                    {1: 'S', 2: (25.0, 46.0, 35.97), 3: 'E', 4: (2...\n",
       "ResolutionUnit                                                             2\n",
       "ExifOffset                                                               234\n",
       "Make                                                                   Apple\n",
       "Model                                                          iPhone 12 Pro\n",
       "Software                                                                14.6\n",
       "Orientation                                                                1\n",
       "DateTime                                                 2021:11:28 17:02:17\n",
       "YCbCrPositioning                                                           1\n",
       "XResolution                                                             72.0\n",
       "YResolution                                                             72.0\n",
       "HostComputer                                                   iPhone 12 Pro\n",
       "ExifVersion                                                          b'0232'\n",
       "ComponentsConfiguration                                  b'\\x01\\x02\\x03\\x00'\n",
       "ShutterSpeedValue                                          11.91476028230713\n",
       "DateTimeOriginal                                         2021:11:28 17:02:17\n",
       "DateTimeDigitized                                        2021:11:28 17:02:17\n",
       "ApertureValue                                             1.3561438092556088\n",
       "BrightnessValue                                           10.052913063268093\n",
       "ExposureBiasValue                                                        0.0\n",
       "MeteringMode                                                               5\n",
       "Flash                                                                     16\n",
       "FocalLength                                                              4.2\n",
       "ColorSpace                                                             65535\n",
       "ExifImageWidth                                                          4032\n",
       "DigitalZoomRatio                                          1.8394160583941606\n",
       "FocalLengthIn35mmFilm                                                     47\n",
       "SceneCaptureType                                                           0\n",
       "OffsetTime                                                            +02:00\n",
       "OffsetTimeOriginal                                                    +02:00\n",
       "OffsetTimeDigitized                                                   +02:00\n",
       "SubsecTimeOriginal                                                       950\n",
       "SubjectLocation                                     (2010, 1499, 2322, 1386)\n",
       "SubsecTimeDigitized                                                      950\n",
       "ExifImageHeight                                                         3024\n",
       "SensingMethod                                                              2\n",
       "ExposureTime                                            0.000259000259000259\n",
       "FNumber                                                                  1.6\n",
       "SceneType                                                            b'\\x01'\n",
       "ExposureProgram                                                            2\n",
       "ISOSpeedRatings                                                           32\n",
       "ExposureMode                                                               0\n",
       "FlashPixVersion                                                      b'0100'\n",
       "WhiteBalance                                                               0\n",
       "LensSpecification                        (1.5399999618512084, 6.0, 1.6, 2.4)\n",
       "LensMake                                                               Apple\n",
       "LensModel                       iPhone 12 Pro back triple camera 4.2mm f/1.6\n",
       "CompositeImage                                                             2\n",
       "MakerNote                  b'Apple iOS\\x00\\x00\\x01MM\\x00\\'\\x00\\x01\\x00\\t\\...\n",
       "Latitude                                                          -25.776658\n",
       "Longitude                                                          28.184356\n",
       "Google Maps URL            https://maps.google.com/?q=-25.776658333333334...\n",
       "dtype: object"
      ]
     },
     "execution_count": 4,
     "metadata": {},
     "output_type": "execute_result"
    }
   ],
   "source": [
    "IMAGE_2 = 'image_on_flickr.jpg'\n",
    "data = osint.image.read.exif(IMAGE_2)\n",
    "data"
   ]
  },
  {
   "cell_type": "code",
   "execution_count": 5,
   "id": "2105e1bb-433f-4fc6-9c9b-b8d2239a2ce9",
   "metadata": {},
   "outputs": [
    {
     "data": {
      "text/plain": [
       "'https://maps.google.com/?q=-25.776658333333334,28.184355555555555'"
      ]
     },
     "execution_count": 5,
     "metadata": {},
     "output_type": "execute_result"
    }
   ],
   "source": [
    "# Check location on Google Maps\n",
    "data['Google Maps URL']"
   ]
  },
  {
   "cell_type": "code",
   "execution_count": null,
   "id": "916fcaba-dd53-4554-8b35-5c4d78d6411a",
   "metadata": {},
   "outputs": [],
   "source": []
  }
 ],
 "metadata": {
  "kernelspec": {
   "display_name": "Python 3 (ipykernel)",
   "language": "python",
   "name": "python3"
  },
  "language_info": {
   "codemirror_mode": {
    "name": "ipython",
    "version": 3
   },
   "file_extension": ".py",
   "mimetype": "text/x-python",
   "name": "python",
   "nbconvert_exporter": "python",
   "pygments_lexer": "ipython3",
   "version": "3.9.12"
  }
 },
 "nbformat": 4,
 "nbformat_minor": 5
}
